{
 "cells": [
  {
   "metadata": {},
   "cell_type": "markdown",
   "source": "### Metodos",
   "id": "91cf10879a29baf6"
  },
  {
   "metadata": {
    "ExecuteTime": {
     "end_time": "2024-12-12T01:51:15.446317Z",
     "start_time": "2024-12-12T01:51:15.435823Z"
    }
   },
   "cell_type": "code",
   "source": [
    "class Pajaro: \n",
    "    def __init__(self, color, especie):\n",
    "        self.color = color\n",
    "        self.especie = especie\n",
    "        \n",
    "    def piar(self):\n",
    "        print('pio')\n",
    "        \n",
    "    def volar(self, metros):\n",
    "        print(f'El pajaro ha volado {metros} metros')\n",
    "        self.piar()\n",
    "        \n",
    "    def pintar_negro(self):\n",
    "        self.color = 'negro'\n",
    "        print(f'Ahora es de color {self.color}')\n",
    "        \n",
    "    # metodos de clase\n",
    "    @classmethod\n",
    "    def poner_huevos(cls, cantidad):\n",
    "        print(f'puso {cantidad} huevos')\n",
    "        \n",
    "    # metodo estatico\n",
    "    @staticmethod\n",
    "    def mirar():\n",
    "        print('El pajaro esta mirando')\n",
    "\n",
    "piolin = Pajaro('red', 2)\n",
    "print(piolin.pintar_negro())"
   ],
   "id": "b3ffdd2139a53258",
   "outputs": [
    {
     "name": "stdout",
     "output_type": "stream",
     "text": [
      "Ahora es de color negro\n",
      "None\n"
     ]
    }
   ],
   "execution_count": 6
  },
  {
   "metadata": {},
   "cell_type": "markdown",
   "source": "### Herencia",
   "id": "492f395c5124cc0"
  },
  {
   "metadata": {
    "ExecuteTime": {
     "end_time": "2024-12-12T02:29:21.548124Z",
     "start_time": "2024-12-12T02:29:21.533517Z"
    }
   },
   "cell_type": "code",
   "source": [
    "# Herencia\n",
    "class Animal:\n",
    "    def __init__(self, color, especie):\n",
    "        self.color = color\n",
    "        self.especie = especie\n",
    "        \n",
    "    def nacer(self):\n",
    "        print('Este animal ha nacido')\n",
    "        \n",
    "class Pajaro(Animal):\n",
    "    pass\n",
    "\n",
    "canario = Pajaro(2, 'ave')\n",
    "canario.nacer()\n",
    "print(canario.especie)"
   ],
   "id": "703432a8661a519e",
   "outputs": [
    {
     "name": "stdout",
     "output_type": "stream",
     "text": [
      "Este animal ha nacido\n",
      "ave\n"
     ]
    }
   ],
   "execution_count": 9
  },
  {
   "metadata": {
    "ExecuteTime": {
     "end_time": "2024-12-12T02:48:28.429018Z",
     "start_time": "2024-12-12T02:48:28.403613Z"
    }
   },
   "cell_type": "code",
   "source": [
    "# Herencia extendida\n",
    "class Animal:\n",
    "    \n",
    "    def __init__(self, edad, color):\n",
    "        self.color = color\n",
    "        self.edad = edad\n",
    "        \n",
    "    def nacer(self):\n",
    "        print('Este animal ha nacido')\n",
    "        \n",
    "    def hablar(self):\n",
    "        print('Este animal emite sonidos')\n",
    "        \n",
    "class Pajaro(Animal):\n",
    "    \n",
    "    def __init__(self, edad, color, altura_vuelo):\n",
    "        super().__init__(edad, color)\n",
    "        self.altura_vuelo = altura_vuelo\n",
    "        \n",
    "    def hablar(self):\n",
    "        print('pio')\n",
    "        \n",
    "    def volar(self, metros):\n",
    "        print(f'El pajaro ha volado {metros} metros')\n",
    "        \n",
    "cuervo = Pajaro(3, 'negro', 100)\n",
    "print(cuervo)\n",
    "loro = Animal(4, 'verde')\n",
    "print(loro)\n"
   ],
   "id": "3d3059e7c112b294",
   "outputs": [
    {
     "name": "stdout",
     "output_type": "stream",
     "text": [
      "<__main__.Pajaro object at 0x71af207df410>\n",
      "<__main__.Animal object at 0x71af207deea0>\n"
     ]
    }
   ],
   "execution_count": 11
  },
  {
   "metadata": {
    "ExecuteTime": {
     "end_time": "2024-12-12T03:04:51.303607Z",
     "start_time": "2024-12-12T03:04:51.287377Z"
    }
   },
   "cell_type": "code",
   "source": [
    "# herencia multiple\n",
    "class Padre:\n",
    "    \n",
    "    def hablar(self):\n",
    "        print('Hola')\n",
    "        \n",
    "class Madre:\n",
    "    \n",
    "    def reir(self):\n",
    "        print('ha ha ha')\n",
    "        \n",
    "    def hablar(self):\n",
    "        print('Hola que tal')\n",
    "        \n",
    "class Hijo(Padre, Madre):\n",
    "    pass\n",
    "\n",
    "class Nieto(Hijo):\n",
    "    pass\n",
    "\n",
    "mi_nieto = Nieto()\n",
    "print(Nieto.__mro__)\n",
    "mi_nieto.hablar()\n",
    "mi_nieto.reir()"
   ],
   "id": "3a78156108ae4339",
   "outputs": [
    {
     "name": "stdout",
     "output_type": "stream",
     "text": [
      "(<class '__main__.Nieto'>, <class '__main__.Hijo'>, <class '__main__.Padre'>, <class '__main__.Madre'>, <class 'object'>)\n",
      "Hola\n",
      "ha ha ha\n"
     ]
    }
   ],
   "execution_count": 13
  },
  {
   "metadata": {},
   "cell_type": "code",
   "outputs": [],
   "execution_count": null,
   "source": [
    "class Vertebrado:\n",
    "    vertebrado = True\n",
    "    \n",
    "class Ave:\n",
    "    tiene_pico = True"
   ],
   "id": "1e1b1c15ff59cc3c"
  }
 ],
 "metadata": {
  "kernelspec": {
   "display_name": "Python 3",
   "language": "python",
   "name": "python3"
  },
  "language_info": {
   "codemirror_mode": {
    "name": "ipython",
    "version": 2
   },
   "file_extension": ".py",
   "mimetype": "text/x-python",
   "name": "python",
   "nbconvert_exporter": "python",
   "pygments_lexer": "ipython2",
   "version": "2.7.6"
  }
 },
 "nbformat": 4,
 "nbformat_minor": 5
}
